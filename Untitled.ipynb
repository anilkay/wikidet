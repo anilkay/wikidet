{
 "cells": [
  {
   "cell_type": "code",
   "execution_count": 1,
   "metadata": {},
   "outputs": [],
   "source": [
    "from xml.dom import minidom\n",
    "mydoc = minidom.parse('trwiki-20181201-pages-articles.xml')"
   ]
  },
  {
   "cell_type": "code",
   "execution_count": 2,
   "metadata": {},
   "outputs": [
    {
     "name": "stdout",
     "output_type": "stream",
     "text": [
      "Sen ne demek istiyorsun\n"
     ]
    }
   ],
   "source": [
    "print(\"Sen ne demek istiyorsun\")"
   ]
  },
  {
   "cell_type": "code",
   "execution_count": 3,
   "metadata": {},
   "outputs": [
    {
     "name": "stdout",
     "output_type": "stream",
     "text": [
      "890227\n"
     ]
    }
   ],
   "source": [
    "articles=mydoc.getElementsByTagName(\"text\")\n",
    "print(len(articles))\n",
    "mydoc=1"
   ]
  },
  {
   "cell_type": "code",
   "execution_count": 4,
   "metadata": {},
   "outputs": [
    {
     "name": "stdout",
     "output_type": "stream",
     "text": [
      "1\n"
     ]
    }
   ],
   "source": [
    "print(mydoc)\n",
    "def getText(nodelist):\n",
    "    # Iterate all Nodes aggregate TEXT_NODE\n",
    "    rc = []\n",
    "    for node in nodelist:\n",
    "        if node.nodeType == node.TEXT_NODE:\n",
    "            rc.append(node.data)\n",
    "        else:\n",
    "            # Recursive\n",
    "            rc.append(getText(node.childNodes))\n",
    "    return ''.join(rc)"
   ]
  },
  {
   "cell_type": "code",
   "execution_count": null,
   "metadata": {},
   "outputs": [],
   "source": [
    "i=0\n",
    "corpus=[]\n",
    "while i<=192100:\n",
    "    hamtext=getText(articles[i:i+1000])\n",
    "    hamtext=hamtext.lower()  \n",
    "    if i%1000==0:\n",
    "        print(i)\n",
    "    t_list = hamtext.split('\\n')\n",
    "    i=i+1000\n",
    "    for liste in t_list:\n",
    "        corpus.append(liste.split())\n",
    "from gensim.models import Word2Vec\n",
    "print(\"Ha gayret\")\n",
    "model=Word2Vec(corpus, size=100, window=5, min_count=5, sg=1)\n",
    "model.wv.save_word2vec_format(\"wiki3word10010.txt\")"
   ]
  },
  {
   "cell_type": "code",
   "execution_count": 32,
   "metadata": {},
   "outputs": [
    {
     "name": "stderr",
     "output_type": "stream",
     "text": [
      "C:\\Users\\user2\\Anaconda3\\lib\\site-packages\\ipykernel_launcher.py:1: DeprecationWarning: Call to deprecated `most_similar` (Method will be removed in 4.0.0, use self.wv.most_similar() instead).\n",
      "  \"\"\"Entry point for launching an IPython kernel.\n"
     ]
    },
    {
     "data": {
      "text/plain": [
       "[('veysel', 0.8241605758666992),\n",
       " ('mehmet', 0.8131933808326721),\n",
       " ('erdoğan', 0.8128848075866699),\n",
       " ('ahmet', 0.8066023588180542),\n",
       " ('alpay', 0.8049980998039246),\n",
       " ('salih', 0.7986534833908081),\n",
       " ('recai', 0.796135663986206),\n",
       " ('ferhat', 0.7956293821334839),\n",
       " ('hüseyin', 0.7928088903427124),\n",
       " ('ali', 0.791815996170044)]"
      ]
     },
     "execution_count": 32,
     "metadata": {},
     "output_type": "execute_result"
    }
   ],
   "source": [
    "model.most_similar(\"recep\")"
   ]
  },
  {
   "cell_type": "code",
   "execution_count": 33,
   "metadata": {},
   "outputs": [
    {
     "name": "stderr",
     "output_type": "stream",
     "text": [
      "C:\\Users\\user2\\Anaconda3\\lib\\site-packages\\ipykernel_launcher.py:1: DeprecationWarning: Call to deprecated `most_similar` (Method will be removed in 4.0.0, use self.wv.most_similar() instead).\n",
      "  \"\"\"Entry point for launching an IPython kernel.\n"
     ]
    },
    {
     "data": {
      "text/plain": [
       "[('soğan', 0.8647395968437195),\n",
       " ('inek', 0.8522214889526367),\n",
       " ('sarımsak', 0.839887261390686),\n",
       " ('tavuk,', 0.8372263312339783),\n",
       " ('patates', 0.8296461701393127),\n",
       " ('keçi', 0.8269665241241455),\n",
       " ('marul', 0.8259072303771973),\n",
       " ('ekmek', 0.8238708972930908),\n",
       " ('peynir', 0.8215242624282837),\n",
       " ('yoğurt,', 0.8213906288146973)]"
      ]
     },
     "execution_count": 33,
     "metadata": {},
     "output_type": "execute_result"
    }
   ],
   "source": [
    "model.most_similar(\"tavuk\")"
   ]
  },
  {
   "cell_type": "code",
   "execution_count": 12,
   "metadata": {},
   "outputs": [],
   "source": [
    "model.save(\"wikimodel2.model\")"
   ]
  },
  {
   "cell_type": "code",
   "execution_count": 13,
   "metadata": {},
   "outputs": [],
   "source": [
    "model.wv.save_word2vec_format(\"wikiword10010.txt\")"
   ]
  },
  {
   "cell_type": "code",
   "execution_count": 34,
   "metadata": {},
   "outputs": [
    {
     "name": "stderr",
     "output_type": "stream",
     "text": [
      "C:\\Users\\user2\\Anaconda3\\lib\\site-packages\\ipykernel_launcher.py:1: DeprecationWarning: Call to deprecated `most_similar` (Method will be removed in 4.0.0, use self.wv.most_similar() instead).\n",
      "  \"\"\"Entry point for launching an IPython kernel.\n"
     ]
    },
    {
     "data": {
      "text/plain": [
       "[('başbakanı', 0.8550519943237305),\n",
       " ('[[cumhurbaşkanı]]', 0.8469062447547913),\n",
       " ('başbakan', 0.840875506401062),\n",
       " ('[[başbakan]]ı', 0.7701032161712646),\n",
       " ('cumhurbaşkanlığına', 0.7671348452568054),\n",
       " ('[[başbakan]]', 0.7387183904647827),\n",
       " (\"sunay]]'ın\", 0.7363041043281555),\n",
       " ('[[askar', 0.7358182072639465),\n",
       " ('[[pervez', 0.7268170118331909),\n",
       " ('müşerref]]', 0.72662752866745)]"
      ]
     },
     "execution_count": 34,
     "metadata": {},
     "output_type": "execute_result"
    }
   ],
   "source": [
    "model.most_similar(\"cumhurbaşkanı\")"
   ]
  },
  {
   "cell_type": "code",
   "execution_count": 15,
   "metadata": {},
   "outputs": [
    {
     "name": "stderr",
     "output_type": "stream",
     "text": [
      "C:\\Users\\user2\\Anaconda3\\lib\\site-packages\\ipykernel_launcher.py:1: DeprecationWarning: Call to deprecated `most_similar` (Method will be removed in 4.0.0, use self.wv.most_similar() instead).\n",
      "  \"\"\"Entry point for launching an IPython kernel.\n"
     ]
    },
    {
     "data": {
      "text/plain": [
       "[('erkek', 0.829888641834259),\n",
       " ('oyuncu]]', 0.676706075668335),\n",
       " ('oyuncu|en', 0.6748140454292297),\n",
       " (\"oyuncu'''<br\", 0.66783607006073),\n",
       " ('dansçılar]]', 0.6669124960899353),\n",
       " ('oyuncu]],', 0.6632012128829956),\n",
       " ('çocuk', 0.6604129672050476),\n",
       " ('modeller]]', 0.6496579051017761),\n",
       " (\"oyuncu''\", 0.6467382311820984),\n",
       " (\"oyuncu]]'''<br\", 0.6457328796386719)]"
      ]
     },
     "execution_count": 15,
     "metadata": {},
     "output_type": "execute_result"
    }
   ],
   "source": []
  },
  {
   "cell_type": "code",
   "execution_count": 35,
   "metadata": {},
   "outputs": [
    {
     "name": "stderr",
     "output_type": "stream",
     "text": [
      "C:\\Users\\user2\\Anaconda3\\lib\\site-packages\\ipykernel_launcher.py:1: DeprecationWarning: Call to deprecated `most_similar` (Method will be removed in 4.0.0, use self.wv.most_similar() instead).\n",
      "  \"\"\"Entry point for launching an IPython kernel.\n"
     ]
    },
    {
     "data": {
      "text/plain": [
       "[('kadın', 0.8504306674003601),\n",
       " ('kız', 0.6901121735572815),\n",
       " ('erkek,', 0.6842049360275269),\n",
       " ('yüzücüler]]', 0.6798840165138245),\n",
       " (\"oyuncu'''<br\", 0.6763373613357544),\n",
       " ('oyuncu|en', 0.6746222972869873),\n",
       " ('(tv)|en', 0.6675492525100708),\n",
       " ('kadin', 0.66526198387146),\n",
       " (\"oyuncu'\", 0.6629518270492554),\n",
       " ('|[[en', 0.6612005829811096)]"
      ]
     },
     "execution_count": 35,
     "metadata": {},
     "output_type": "execute_result"
    }
   ],
   "source": [
    "model.most_similar(\"erkek\")"
   ]
  },
  {
   "cell_type": "code",
   "execution_count": 36,
   "metadata": {},
   "outputs": [
    {
     "name": "stderr",
     "output_type": "stream",
     "text": [
      "C:\\Users\\user2\\Anaconda3\\lib\\site-packages\\ipykernel_launcher.py:1: DeprecationWarning: Call to deprecated `most_similar` (Method will be removed in 4.0.0, use self.wv.most_similar() instead).\n",
      "  \"\"\"Entry point for launching an IPython kernel.\n"
     ]
    },
    {
     "data": {
      "text/plain": [
       "[('{{galaksiler}}', 0.3742760121822357),\n",
       " ('female', 0.35989120602607727),\n",
       " ('review', 0.3577077388763428),\n",
       " ('satellite', 0.35665881633758545),\n",
       " ('studies', 0.356563001871109),\n",
       " (\"''american\", 0.35435739159584045),\n",
       " ('british', 0.35222554206848145),\n",
       " ('male', 0.3463725447654724),\n",
       " ('yetişkin', 0.3456090986728668),\n",
       " ('cancer', 0.3426007628440857)]"
      ]
     },
     "execution_count": 36,
     "metadata": {},
     "output_type": "execute_result"
    }
   ],
   "source": [
    "model.most_similar(positive=[\"çocuk\",\"erkek\",\"penis\"],negative=[\"kız\",\"kadın\",\"vajina\"])"
   ]
  },
  {
   "cell_type": "code",
   "execution_count": 46,
   "metadata": {},
   "outputs": [
    {
     "name": "stderr",
     "output_type": "stream",
     "text": [
      "C:\\Users\\user2\\Anaconda3\\lib\\site-packages\\ipykernel_launcher.py:1: DeprecationWarning: Call to deprecated `most_similar` (Method will be removed in 4.0.0, use self.wv.most_similar() instead).\n",
      "  \"\"\"Entry point for launching an IPython kernel.\n"
     ]
    },
    {
     "data": {
      "text/plain": [
       "[('everton', 0.8824458122253418),\n",
       " ('tottenham', 0.8760639429092407),\n",
       " ('stoke', 0.873746931552887),\n",
       " ('fulham', 0.8693647384643555),\n",
       " ('arsenal', 0.8673144578933716),\n",
       " ('leeds', 0.8592547178268433),\n",
       " ('juventus', 0.8525254726409912),\n",
       " ('leicester', 0.8512029051780701),\n",
       " ('swansea', 0.8499453067779541),\n",
       " ('newcastle', 0.8475268483161926)]"
      ]
     },
     "execution_count": 46,
     "metadata": {},
     "output_type": "execute_result"
    }
   ],
   "source": [
    "model.most_similar(\"chelsea\")"
   ]
  },
  {
   "cell_type": "code",
   "execution_count": null,
   "metadata": {},
   "outputs": [],
   "source": []
  }
 ],
 "metadata": {
  "kernelspec": {
   "display_name": "Python 3",
   "language": "python",
   "name": "python3"
  },
  "language_info": {
   "codemirror_mode": {
    "name": "ipython",
    "version": 3
   },
   "file_extension": ".py",
   "mimetype": "text/x-python",
   "name": "python",
   "nbconvert_exporter": "python",
   "pygments_lexer": "ipython3",
   "version": "3.6.4"
  }
 },
 "nbformat": 4,
 "nbformat_minor": 2
}
